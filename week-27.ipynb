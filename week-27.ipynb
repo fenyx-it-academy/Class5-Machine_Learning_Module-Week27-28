{
 "cells": [
  {
   "cell_type": "code",
   "execution_count": 2,
   "metadata": {},
   "outputs": [],
   "source": [
    "import numpy as np\n",
    "import pandas as pd\n",
    "import seaborn as sns\n",
    "import matplotlib.pyplot as plt\n",
    "import statsmodels.api as sm\n",
    "import statsmodels.formula.api as smf\n",
    "from sklearn.linear_model import Lasso, LassoCV, Ridge, RidgeCV, LinearRegression, LogisticRegression\n",
    "from sklearn.metrics import mean_squared_error, r2_score\n",
    "from sklearn.model_selection import cross_val_score, train_test_split, GridSearchCV\n",
    "from sklearn.preprocessing import PolynomialFeatures\n",
    "from sklearn.metrics import accuracy_score\n",
    "from sklearn.naive_bayes import GaussianNB\n",
    "from sklearn.neighbors import KNeighborsRegressor\n",
    "from sklearn.svm import SVR"
   ]
  },
  {
   "cell_type": "code",
   "execution_count": 3,
   "metadata": {},
   "outputs": [],
   "source": [
    "data = pd.read_csv('weatherAUS.csv')\n",
    "df = data.copy()"
   ]
  },
  {
   "cell_type": "code",
   "execution_count": 4,
   "metadata": {},
   "outputs": [
    {
     "data": {
      "text/plain": [
       "Index(['Date', 'Location', 'MinTemp', 'MaxTemp', 'Rainfall', 'Evaporation',\n",
       "       'Sunshine', 'WindGustDir', 'WindGustSpeed', 'WindDir9am', 'WindDir3pm',\n",
       "       'WindSpeed9am', 'WindSpeed3pm', 'Humidity9am', 'Humidity3pm',\n",
       "       'Pressure9am', 'Pressure3pm', 'Cloud9am', 'Cloud3pm', 'Temp9am',\n",
       "       'Temp3pm', 'RainToday', 'RainTomorrow'],\n",
       "      dtype='object')"
      ]
     },
     "execution_count": 4,
     "metadata": {},
     "output_type": "execute_result"
    }
   ],
   "source": [
    "df.columns"
   ]
  },
  {
   "cell_type": "code",
   "execution_count": 5,
   "metadata": {},
   "outputs": [],
   "source": [
    "df = df[['Location', 'MinTemp', 'MaxTemp', 'Rainfall', 'WindGustDir', 'WindGustSpeed', 'WindSpeed9am', 'WindSpeed3pm', 'Pressure9am', 'Pressure3pm', 'Humidity9am', 'Humidity3pm']]"
   ]
  },
  {
   "cell_type": "code",
   "execution_count": 6,
   "metadata": {},
   "outputs": [
    {
     "data": {
      "text/html": [
       "<div>\n",
       "<style scoped>\n",
       "    .dataframe tbody tr th:only-of-type {\n",
       "        vertical-align: middle;\n",
       "    }\n",
       "\n",
       "    .dataframe tbody tr th {\n",
       "        vertical-align: top;\n",
       "    }\n",
       "\n",
       "    .dataframe thead th {\n",
       "        text-align: right;\n",
       "    }\n",
       "</style>\n",
       "<table border=\"1\" class=\"dataframe\">\n",
       "  <thead>\n",
       "    <tr style=\"text-align: right;\">\n",
       "      <th></th>\n",
       "      <th>Location</th>\n",
       "      <th>MinTemp</th>\n",
       "      <th>MaxTemp</th>\n",
       "      <th>Rainfall</th>\n",
       "      <th>WindGustDir</th>\n",
       "      <th>WindGustSpeed</th>\n",
       "      <th>WindSpeed9am</th>\n",
       "      <th>WindSpeed3pm</th>\n",
       "      <th>Pressure9am</th>\n",
       "      <th>Pressure3pm</th>\n",
       "      <th>Humidity9am</th>\n",
       "      <th>Humidity3pm</th>\n",
       "    </tr>\n",
       "  </thead>\n",
       "  <tbody>\n",
       "    <tr>\n",
       "      <th>0</th>\n",
       "      <td>Albury</td>\n",
       "      <td>13.4</td>\n",
       "      <td>22.9</td>\n",
       "      <td>0.6</td>\n",
       "      <td>W</td>\n",
       "      <td>44.0</td>\n",
       "      <td>20.0</td>\n",
       "      <td>24.0</td>\n",
       "      <td>1007.7</td>\n",
       "      <td>1007.1</td>\n",
       "      <td>71.0</td>\n",
       "      <td>22.0</td>\n",
       "    </tr>\n",
       "    <tr>\n",
       "      <th>1</th>\n",
       "      <td>Albury</td>\n",
       "      <td>7.4</td>\n",
       "      <td>25.1</td>\n",
       "      <td>0.0</td>\n",
       "      <td>WNW</td>\n",
       "      <td>44.0</td>\n",
       "      <td>4.0</td>\n",
       "      <td>22.0</td>\n",
       "      <td>1010.6</td>\n",
       "      <td>1007.8</td>\n",
       "      <td>44.0</td>\n",
       "      <td>25.0</td>\n",
       "    </tr>\n",
       "    <tr>\n",
       "      <th>2</th>\n",
       "      <td>Albury</td>\n",
       "      <td>12.9</td>\n",
       "      <td>25.7</td>\n",
       "      <td>0.0</td>\n",
       "      <td>WSW</td>\n",
       "      <td>46.0</td>\n",
       "      <td>19.0</td>\n",
       "      <td>26.0</td>\n",
       "      <td>1007.6</td>\n",
       "      <td>1008.7</td>\n",
       "      <td>38.0</td>\n",
       "      <td>30.0</td>\n",
       "    </tr>\n",
       "    <tr>\n",
       "      <th>3</th>\n",
       "      <td>Albury</td>\n",
       "      <td>9.2</td>\n",
       "      <td>28.0</td>\n",
       "      <td>0.0</td>\n",
       "      <td>NE</td>\n",
       "      <td>24.0</td>\n",
       "      <td>11.0</td>\n",
       "      <td>9.0</td>\n",
       "      <td>1017.6</td>\n",
       "      <td>1012.8</td>\n",
       "      <td>45.0</td>\n",
       "      <td>16.0</td>\n",
       "    </tr>\n",
       "    <tr>\n",
       "      <th>4</th>\n",
       "      <td>Albury</td>\n",
       "      <td>17.5</td>\n",
       "      <td>32.3</td>\n",
       "      <td>1.0</td>\n",
       "      <td>W</td>\n",
       "      <td>41.0</td>\n",
       "      <td>7.0</td>\n",
       "      <td>20.0</td>\n",
       "      <td>1010.8</td>\n",
       "      <td>1006.0</td>\n",
       "      <td>82.0</td>\n",
       "      <td>33.0</td>\n",
       "    </tr>\n",
       "  </tbody>\n",
       "</table>\n",
       "</div>"
      ],
      "text/plain": [
       "  Location  MinTemp  MaxTemp  Rainfall WindGustDir  WindGustSpeed  \\\n",
       "0   Albury     13.4     22.9       0.6           W           44.0   \n",
       "1   Albury      7.4     25.1       0.0         WNW           44.0   \n",
       "2   Albury     12.9     25.7       0.0         WSW           46.0   \n",
       "3   Albury      9.2     28.0       0.0          NE           24.0   \n",
       "4   Albury     17.5     32.3       1.0           W           41.0   \n",
       "\n",
       "   WindSpeed9am  WindSpeed3pm  Pressure9am  Pressure3pm  Humidity9am  \\\n",
       "0          20.0          24.0       1007.7       1007.1         71.0   \n",
       "1           4.0          22.0       1010.6       1007.8         44.0   \n",
       "2          19.0          26.0       1007.6       1008.7         38.0   \n",
       "3          11.0           9.0       1017.6       1012.8         45.0   \n",
       "4           7.0          20.0       1010.8       1006.0         82.0   \n",
       "\n",
       "   Humidity3pm  \n",
       "0         22.0  \n",
       "1         25.0  \n",
       "2         30.0  \n",
       "3         16.0  \n",
       "4         33.0  "
      ]
     },
     "execution_count": 6,
     "metadata": {},
     "output_type": "execute_result"
    }
   ],
   "source": [
    "df.head()"
   ]
  },
  {
   "cell_type": "code",
   "execution_count": 7,
   "metadata": {},
   "outputs": [],
   "source": [
    "df = df.dropna()\n",
    "df = df.reset_index(drop = True)"
   ]
  },
  {
   "cell_type": "code",
   "execution_count": 8,
   "metadata": {},
   "outputs": [
    {
     "data": {
      "text/plain": [
       "44"
      ]
     },
     "execution_count": 8,
     "metadata": {},
     "output_type": "execute_result"
    }
   ],
   "source": [
    "df['Location'].nunique()"
   ]
  },
  {
   "cell_type": "code",
   "execution_count": 9,
   "metadata": {},
   "outputs": [
    {
     "data": {
      "text/html": [
       "<div>\n",
       "<style scoped>\n",
       "    .dataframe tbody tr th:only-of-type {\n",
       "        vertical-align: middle;\n",
       "    }\n",
       "\n",
       "    .dataframe tbody tr th {\n",
       "        vertical-align: top;\n",
       "    }\n",
       "\n",
       "    .dataframe thead th {\n",
       "        text-align: right;\n",
       "    }\n",
       "</style>\n",
       "<table border=\"1\" class=\"dataframe\">\n",
       "  <thead>\n",
       "    <tr style=\"text-align: right;\">\n",
       "      <th></th>\n",
       "      <th>MinTemp</th>\n",
       "      <th>MaxTemp</th>\n",
       "      <th>Rainfall</th>\n",
       "      <th>WindGustSpeed</th>\n",
       "      <th>WindSpeed9am</th>\n",
       "      <th>WindSpeed3pm</th>\n",
       "      <th>Pressure9am</th>\n",
       "      <th>Pressure3pm</th>\n",
       "      <th>Humidity9am</th>\n",
       "      <th>Humidity3pm</th>\n",
       "    </tr>\n",
       "  </thead>\n",
       "  <tbody>\n",
       "    <tr>\n",
       "      <th>MinTemp</th>\n",
       "      <td>1.000000</td>\n",
       "      <td>0.730722</td>\n",
       "      <td>0.110986</td>\n",
       "      <td>0.196310</td>\n",
       "      <td>0.201961</td>\n",
       "      <td>0.174692</td>\n",
       "      <td>-0.452112</td>\n",
       "      <td>-0.462707</td>\n",
       "      <td>-0.245643</td>\n",
       "      <td>0.022310</td>\n",
       "    </tr>\n",
       "    <tr>\n",
       "      <th>MaxTemp</th>\n",
       "      <td>0.730722</td>\n",
       "      <td>1.000000</td>\n",
       "      <td>-0.070155</td>\n",
       "      <td>0.088774</td>\n",
       "      <td>0.031529</td>\n",
       "      <td>0.043346</td>\n",
       "      <td>-0.329208</td>\n",
       "      <td>-0.423019</td>\n",
       "      <td>-0.523531</td>\n",
       "      <td>-0.498399</td>\n",
       "    </tr>\n",
       "    <tr>\n",
       "      <th>Rainfall</th>\n",
       "      <td>0.110986</td>\n",
       "      <td>-0.070155</td>\n",
       "      <td>1.000000</td>\n",
       "      <td>0.132387</td>\n",
       "      <td>0.089173</td>\n",
       "      <td>0.062333</td>\n",
       "      <td>-0.169714</td>\n",
       "      <td>-0.129392</td>\n",
       "      <td>0.225787</td>\n",
       "      <td>0.256859</td>\n",
       "    </tr>\n",
       "    <tr>\n",
       "      <th>WindGustSpeed</th>\n",
       "      <td>0.196310</td>\n",
       "      <td>0.088774</td>\n",
       "      <td>0.132387</td>\n",
       "      <td>1.000000</td>\n",
       "      <td>0.601903</td>\n",
       "      <td>0.689313</td>\n",
       "      <td>-0.458755</td>\n",
       "      <td>-0.414750</td>\n",
       "      <td>-0.219663</td>\n",
       "      <td>-0.035175</td>\n",
       "    </tr>\n",
       "    <tr>\n",
       "      <th>WindSpeed9am</th>\n",
       "      <td>0.201961</td>\n",
       "      <td>0.031529</td>\n",
       "      <td>0.089173</td>\n",
       "      <td>0.601903</td>\n",
       "      <td>1.000000</td>\n",
       "      <td>0.513806</td>\n",
       "      <td>-0.230518</td>\n",
       "      <td>-0.179900</td>\n",
       "      <td>-0.269315</td>\n",
       "      <td>-0.029012</td>\n",
       "    </tr>\n",
       "    <tr>\n",
       "      <th>WindSpeed3pm</th>\n",
       "      <td>0.174692</td>\n",
       "      <td>0.043346</td>\n",
       "      <td>0.062333</td>\n",
       "      <td>0.689313</td>\n",
       "      <td>0.513806</td>\n",
       "      <td>1.000000</td>\n",
       "      <td>-0.300413</td>\n",
       "      <td>-0.261476</td>\n",
       "      <td>-0.132529</td>\n",
       "      <td>0.032667</td>\n",
       "    </tr>\n",
       "    <tr>\n",
       "      <th>Pressure9am</th>\n",
       "      <td>-0.452112</td>\n",
       "      <td>-0.329208</td>\n",
       "      <td>-0.169714</td>\n",
       "      <td>-0.458755</td>\n",
       "      <td>-0.230518</td>\n",
       "      <td>-0.300413</td>\n",
       "      <td>1.000000</td>\n",
       "      <td>0.961613</td>\n",
       "      <td>0.142009</td>\n",
       "      <td>-0.027871</td>\n",
       "    </tr>\n",
       "    <tr>\n",
       "      <th>Pressure3pm</th>\n",
       "      <td>-0.462707</td>\n",
       "      <td>-0.423019</td>\n",
       "      <td>-0.129392</td>\n",
       "      <td>-0.414750</td>\n",
       "      <td>-0.179900</td>\n",
       "      <td>-0.261476</td>\n",
       "      <td>0.961613</td>\n",
       "      <td>1.000000</td>\n",
       "      <td>0.189555</td>\n",
       "      <td>0.051186</td>\n",
       "    </tr>\n",
       "    <tr>\n",
       "      <th>Humidity9am</th>\n",
       "      <td>-0.245643</td>\n",
       "      <td>-0.523531</td>\n",
       "      <td>0.225787</td>\n",
       "      <td>-0.219663</td>\n",
       "      <td>-0.269315</td>\n",
       "      <td>-0.132529</td>\n",
       "      <td>0.142009</td>\n",
       "      <td>0.189555</td>\n",
       "      <td>1.000000</td>\n",
       "      <td>0.674924</td>\n",
       "    </tr>\n",
       "    <tr>\n",
       "      <th>Humidity3pm</th>\n",
       "      <td>0.022310</td>\n",
       "      <td>-0.498399</td>\n",
       "      <td>0.256859</td>\n",
       "      <td>-0.035175</td>\n",
       "      <td>-0.029012</td>\n",
       "      <td>0.032667</td>\n",
       "      <td>-0.027871</td>\n",
       "      <td>0.051186</td>\n",
       "      <td>0.674924</td>\n",
       "      <td>1.000000</td>\n",
       "    </tr>\n",
       "  </tbody>\n",
       "</table>\n",
       "</div>"
      ],
      "text/plain": [
       "                MinTemp   MaxTemp  Rainfall  WindGustSpeed  WindSpeed9am  \\\n",
       "MinTemp        1.000000  0.730722  0.110986       0.196310      0.201961   \n",
       "MaxTemp        0.730722  1.000000 -0.070155       0.088774      0.031529   \n",
       "Rainfall       0.110986 -0.070155  1.000000       0.132387      0.089173   \n",
       "WindGustSpeed  0.196310  0.088774  0.132387       1.000000      0.601903   \n",
       "WindSpeed9am   0.201961  0.031529  0.089173       0.601903      1.000000   \n",
       "WindSpeed3pm   0.174692  0.043346  0.062333       0.689313      0.513806   \n",
       "Pressure9am   -0.452112 -0.329208 -0.169714      -0.458755     -0.230518   \n",
       "Pressure3pm   -0.462707 -0.423019 -0.129392      -0.414750     -0.179900   \n",
       "Humidity9am   -0.245643 -0.523531  0.225787      -0.219663     -0.269315   \n",
       "Humidity3pm    0.022310 -0.498399  0.256859      -0.035175     -0.029012   \n",
       "\n",
       "               WindSpeed3pm  Pressure9am  Pressure3pm  Humidity9am  \\\n",
       "MinTemp            0.174692    -0.452112    -0.462707    -0.245643   \n",
       "MaxTemp            0.043346    -0.329208    -0.423019    -0.523531   \n",
       "Rainfall           0.062333    -0.169714    -0.129392     0.225787   \n",
       "WindGustSpeed      0.689313    -0.458755    -0.414750    -0.219663   \n",
       "WindSpeed9am       0.513806    -0.230518    -0.179900    -0.269315   \n",
       "WindSpeed3pm       1.000000    -0.300413    -0.261476    -0.132529   \n",
       "Pressure9am       -0.300413     1.000000     0.961613     0.142009   \n",
       "Pressure3pm       -0.261476     0.961613     1.000000     0.189555   \n",
       "Humidity9am       -0.132529     0.142009     0.189555     1.000000   \n",
       "Humidity3pm        0.032667    -0.027871     0.051186     0.674924   \n",
       "\n",
       "               Humidity3pm  \n",
       "MinTemp           0.022310  \n",
       "MaxTemp          -0.498399  \n",
       "Rainfall          0.256859  \n",
       "WindGustSpeed    -0.035175  \n",
       "WindSpeed9am     -0.029012  \n",
       "WindSpeed3pm      0.032667  \n",
       "Pressure9am      -0.027871  \n",
       "Pressure3pm       0.051186  \n",
       "Humidity9am       0.674924  \n",
       "Humidity3pm       1.000000  "
      ]
     },
     "execution_count": 9,
     "metadata": {},
     "output_type": "execute_result"
    }
   ],
   "source": [
    "df.corr()"
   ]
  },
  {
   "cell_type": "code",
   "execution_count": 10,
   "metadata": {},
   "outputs": [
    {
     "data": {
      "image/png": "[encoded data removed]",
      "text/plain": [
       "<Figure size 432x288 with 2 Axes>"
      ]
     },
     "metadata": {
      "needs_background": "light"
     },
     "output_type": "display_data"
    }
   ],
   "source": [
    "sns.heatmap(df.corr(), annot=True, cmap='YlGnBu');"
   ]
  },
  {
   "cell_type": "code",
   "execution_count": 11,
   "metadata": {},
   "outputs": [],
   "source": [
    "location = df['Location'].str.get_dummies().add_prefix('Location_')\n",
    "windgustdir = df['WindGustDir'].str.get_dummies().add_prefix('WindGustDir_')\n",
    "df.drop(['Location','WindGustDir'],inplace = True, axis = 1)"
   ]
  },
  {
   "cell_type": "code",
   "execution_count": 12,
   "metadata": {},
   "outputs": [],
   "source": [
    "df = pd.concat([df, location, windgustdir], axis = 1)"
   ]
  },
  {
   "cell_type": "code",
   "execution_count": 13,
   "metadata": {},
   "outputs": [],
   "source": [
    "y = df['MaxTemp']\n",
    "X = df.drop('MaxTemp', axis = 1)\n",
    "X_train, X_test, y_train, y_test = train_test_split(X, y, test_size = 0.2, random_state = 1)"
   ]
  },
  {
   "cell_type": "code",
   "execution_count": 14,
   "metadata": {},
   "outputs": [
    {
     "name": "stdout",
     "output_type": "stream",
     "text": [
      "X_train:  (96292, 69)\n",
      "y_train:  (96292,)\n",
      "X_test:  (24074, 69)\n",
      "y_test:  (24074,)\n"
     ]
    }
   ],
   "source": [
    "print('X_train: ', np.shape(X_train))\n",
    "print('y_train: ', np.shape(y_train))\n",
    "print('X_test: ', np.shape(X_test))\n",
    "print('y_test: ', np.shape(y_test))"
   ]
  },
  {
   "cell_type": "markdown",
   "metadata": {},
   "source": [
    "## Multiple Linear Model"
   ]
  },
  {
   "cell_type": "code",
   "execution_count": 15,
   "metadata": {},
   "outputs": [
    {
     "data": {
      "text/html": [
       "<table class=\"simpletable\">\n",
       "<caption>OLS Regression Results</caption>\n",
       "<tr>\n",
       "  <th>Dep. Variable:</th>         <td>MaxTemp</td>     <th>  R-squared:         </th>  <td>   0.865</td>  \n",
       "</tr>\n",
       "<tr>\n",
       "  <th>Model:</th>                   <td>OLS</td>       <th>  Adj. R-squared:    </th>  <td>   0.865</td>  \n",
       "</tr>\n",
       "<tr>\n",
       "  <th>Method:</th>             <td>Least Squares</td>  <th>  F-statistic:       </th>  <td>   9173.</td>  \n",
       "</tr>\n",
       "<tr>\n",
       "  <th>Date:</th>             <td>Fri, 08 Apr 2022</td> <th>  Prob (F-statistic):</th>   <td>  0.00</td>   \n",
       "</tr>\n",
       "<tr>\n",
       "  <th>Time:</th>                 <td>19:17:55</td>     <th>  Log-Likelihood:    </th> <td>-2.2752e+05</td>\n",
       "</tr>\n",
       "<tr>\n",
       "  <th>No. Observations:</th>      <td> 96292</td>      <th>  AIC:               </th>  <td>4.552e+05</td> \n",
       "</tr>\n",
       "<tr>\n",
       "  <th>Df Residuals:</th>          <td> 96224</td>      <th>  BIC:               </th>  <td>4.558e+05</td> \n",
       "</tr>\n",
       "<tr>\n",
       "  <th>Df Model:</th>              <td>    67</td>      <th>                     </th>      <td> </td>     \n",
       "</tr>\n",
       "<tr>\n",
       "  <th>Covariance Type:</th>      <td>nonrobust</td>    <th>                     </th>      <td> </td>     \n",
       "</tr>\n",
       "</table>\n",
       "<table class=\"simpletable\">\n",
       "<tr>\n",
       "              <td></td>                 <th>coef</th>     <th>std err</th>      <th>t</th>      <th>P>|t|</th>  <th>[0.025</th>    <th>0.975]</th>  \n",
       "</tr>\n",
       "<tr>\n",
       "  <th>MinTemp</th>                   <td>    0.8218</td> <td>    0.002</td> <td>  416.169</td> <td> 0.000</td> <td>    0.818</td> <td>    0.826</td>\n",
       "</tr>\n",
       "<tr>\n",
       "  <th>Rainfall</th>                  <td>    0.0035</td> <td>    0.001</td> <td>    3.221</td> <td> 0.001</td> <td>    0.001</td> <td>    0.006</td>\n",
       "</tr>\n",
       "<tr>\n",
       "  <th>WindGustSpeed</th>             <td>    0.0007</td> <td>    0.001</td> <td>    0.697</td> <td> 0.486</td> <td>   -0.001</td> <td>    0.003</td>\n",
       "</tr>\n",
       "<tr>\n",
       "  <th>WindSpeed9am</th>              <td>   -0.0987</td> <td>    0.001</td> <td>  -73.822</td> <td> 0.000</td> <td>   -0.101</td> <td>   -0.096</td>\n",
       "</tr>\n",
       "<tr>\n",
       "  <th>WindSpeed3pm</th>              <td>   -0.0100</td> <td>    0.001</td> <td>   -7.016</td> <td> 0.000</td> <td>   -0.013</td> <td>   -0.007</td>\n",
       "</tr>\n",
       "<tr>\n",
       "  <th>Pressure9am</th>               <td>    0.4823</td> <td>    0.005</td> <td>   90.903</td> <td> 0.000</td> <td>    0.472</td> <td>    0.493</td>\n",
       "</tr>\n",
       "<tr>\n",
       "  <th>Pressure3pm</th>               <td>   -0.5408</td> <td>    0.005</td> <td> -102.893</td> <td> 0.000</td> <td>   -0.551</td> <td>   -0.531</td>\n",
       "</tr>\n",
       "<tr>\n",
       "  <th>Humidity9am</th>               <td>   -0.0330</td> <td>    0.001</td> <td>  -45.976</td> <td> 0.000</td> <td>   -0.034</td> <td>   -0.032</td>\n",
       "</tr>\n",
       "<tr>\n",
       "  <th>Humidity3pm</th>               <td>   -0.1397</td> <td>    0.001</td> <td> -212.637</td> <td> 0.000</td> <td>   -0.141</td> <td>   -0.138</td>\n",
       "</tr>\n",
       "<tr>\n",
       "  <th>Location_Adelaide</th>         <td>   20.0753</td> <td>    0.449</td> <td>   44.757</td> <td> 0.000</td> <td>   19.196</td> <td>   20.954</td>\n",
       "</tr>\n",
       "<tr>\n",
       "  <th>Location_Albury</th>           <td>   22.6066</td> <td>    0.444</td> <td>   50.971</td> <td> 0.000</td> <td>   21.737</td> <td>   23.476</td>\n",
       "</tr>\n",
       "<tr>\n",
       "  <th>Location_AliceSprings</th>     <td>   21.5889</td> <td>    0.443</td> <td>   48.769</td> <td> 0.000</td> <td>   20.721</td> <td>   22.457</td>\n",
       "</tr>\n",
       "<tr>\n",
       "  <th>Location_BadgerysCreek</th>    <td>   23.0572</td> <td>    0.445</td> <td>   51.868</td> <td> 0.000</td> <td>   22.186</td> <td>   23.928</td>\n",
       "</tr>\n",
       "<tr>\n",
       "  <th>Location_Ballarat</th>         <td>   23.5745</td> <td>    0.444</td> <td>   53.146</td> <td> 0.000</td> <td>   22.705</td> <td>   24.444</td>\n",
       "</tr>\n",
       "<tr>\n",
       "  <th>Location_Bendigo</th>          <td>   22.7314</td> <td>    0.443</td> <td>   51.307</td> <td> 0.000</td> <td>   21.863</td> <td>   23.600</td>\n",
       "</tr>\n",
       "<tr>\n",
       "  <th>Location_Brisbane</th>         <td>   20.6425</td> <td>    0.447</td> <td>   46.202</td> <td> 0.000</td> <td>   19.767</td> <td>   21.518</td>\n",
       "</tr>\n",
       "<tr>\n",
       "  <th>Location_Cairns</th>           <td>   21.8573</td> <td>    0.446</td> <td>   49.017</td> <td> 0.000</td> <td>   20.983</td> <td>   22.731</td>\n",
       "</tr>\n",
       "<tr>\n",
       "  <th>Location_Canberra</th>         <td>   22.9067</td> <td>    0.444</td> <td>   51.619</td> <td> 0.000</td> <td>   22.037</td> <td>   23.776</td>\n",
       "</tr>\n",
       "<tr>\n",
       "  <th>Location_Cobar</th>            <td>   20.7354</td> <td>    0.446</td> <td>   46.468</td> <td> 0.000</td> <td>   19.861</td> <td>   21.610</td>\n",
       "</tr>\n",
       "<tr>\n",
       "  <th>Location_CoffsHarbour</th>     <td>   22.3941</td> <td>    0.449</td> <td>   49.821</td> <td> 0.000</td> <td>   21.513</td> <td>   23.275</td>\n",
       "</tr>\n",
       "<tr>\n",
       "  <th>Location_Dartmoor</th>         <td>   23.8192</td> <td>    0.444</td> <td>   53.628</td> <td> 0.000</td> <td>   22.949</td> <td>   24.690</td>\n",
       "</tr>\n",
       "<tr>\n",
       "  <th>Location_Darwin</th>           <td>   21.3046</td> <td>    0.447</td> <td>   47.701</td> <td> 0.000</td> <td>   20.429</td> <td>   22.180</td>\n",
       "</tr>\n",
       "<tr>\n",
       "  <th>Location_GoldCoast</th>        <td>   22.0915</td> <td>    0.451</td> <td>   49.000</td> <td> 0.000</td> <td>   21.208</td> <td>   22.975</td>\n",
       "</tr>\n",
       "<tr>\n",
       "  <th>Location_Hobart</th>           <td>   19.7274</td> <td>    0.442</td> <td>   44.634</td> <td> 0.000</td> <td>   18.861</td> <td>   20.594</td>\n",
       "</tr>\n",
       "<tr>\n",
       "  <th>Location_Katherine</th>        <td>   23.6497</td> <td>    0.453</td> <td>   52.245</td> <td> 0.000</td> <td>   22.762</td> <td>   24.537</td>\n",
       "</tr>\n",
       "<tr>\n",
       "  <th>Location_Launceston</th>       <td>   22.0025</td> <td>    0.442</td> <td>   49.779</td> <td> 0.000</td> <td>   21.136</td> <td>   22.869</td>\n",
       "</tr>\n",
       "<tr>\n",
       "  <th>Location_Melbourne</th>        <td>   20.5898</td> <td>    0.448</td> <td>   45.957</td> <td> 0.000</td> <td>   19.712</td> <td>   21.468</td>\n",
       "</tr>\n",
       "<tr>\n",
       "  <th>Location_MelbourneAirport</th> <td>   22.0033</td> <td>    0.447</td> <td>   49.267</td> <td> 0.000</td> <td>   21.128</td> <td>   22.879</td>\n",
       "</tr>\n",
       "<tr>\n",
       "  <th>Location_Mildura</th>          <td>   22.3838</td> <td>    0.445</td> <td>   50.266</td> <td> 0.000</td> <td>   21.511</td> <td>   23.257</td>\n",
       "</tr>\n",
       "<tr>\n",
       "  <th>Location_Moree</th>            <td>   22.5077</td> <td>    0.446</td> <td>   50.417</td> <td> 0.000</td> <td>   21.633</td> <td>   23.383</td>\n",
       "</tr>\n",
       "<tr>\n",
       "  <th>Location_MountGambier</th>     <td>   23.2347</td> <td>    0.445</td> <td>   52.177</td> <td> 0.000</td> <td>   22.362</td> <td>   24.107</td>\n",
       "</tr>\n",
       "<tr>\n",
       "  <th>Location_Nhil</th>             <td>   23.4374</td> <td>    0.448</td> <td>   52.292</td> <td> 0.000</td> <td>   22.559</td> <td>   24.316</td>\n",
       "</tr>\n",
       "<tr>\n",
       "  <th>Location_NorahHead</th>        <td>   21.2351</td> <td>    0.451</td> <td>   47.118</td> <td> 0.000</td> <td>   20.352</td> <td>   22.118</td>\n",
       "</tr>\n",
       "<tr>\n",
       "  <th>Location_NorfolkIsland</th>    <td>   19.9829</td> <td>    0.451</td> <td>   44.354</td> <td> 0.000</td> <td>   19.100</td> <td>   20.866</td>\n",
       "</tr>\n",
       "<tr>\n",
       "  <th>Location_Nuriootpa</th>        <td>   22.1264</td> <td>    0.446</td> <td>   49.605</td> <td> 0.000</td> <td>   21.252</td> <td>   23.001</td>\n",
       "</tr>\n",
       "<tr>\n",
       "  <th>Location_PearceRAAF</th>       <td>   23.2822</td> <td>    0.447</td> <td>   52.100</td> <td> 0.000</td> <td>   22.406</td> <td>   24.158</td>\n",
       "</tr>\n",
       "<tr>\n",
       "  <th>Location_Perth</th>            <td>   22.0469</td> <td>    0.446</td> <td>   49.473</td> <td> 0.000</td> <td>   21.173</td> <td>   22.920</td>\n",
       "</tr>\n",
       "<tr>\n",
       "  <th>Location_PerthAirport</th>     <td>   22.5714</td> <td>    0.447</td> <td>   50.466</td> <td> 0.000</td> <td>   21.695</td> <td>   23.448</td>\n",
       "</tr>\n",
       "<tr>\n",
       "  <th>Location_Portland</th>         <td>   22.3080</td> <td>    0.446</td> <td>   50.001</td> <td> 0.000</td> <td>   21.434</td> <td>   23.182</td>\n",
       "</tr>\n",
       "<tr>\n",
       "  <th>Location_Richmond</th>         <td>   22.7640</td> <td>    0.445</td> <td>   51.204</td> <td> 0.000</td> <td>   21.893</td> <td>   23.635</td>\n",
       "</tr>\n",
       "<tr>\n",
       "  <th>Location_Sale</th>             <td>   23.4321</td> <td>    0.444</td> <td>   52.731</td> <td> 0.000</td> <td>   22.561</td> <td>   24.303</td>\n",
       "</tr>\n",
       "<tr>\n",
       "  <th>Location_Sydney</th>           <td>   20.1968</td> <td>    0.451</td> <td>   44.768</td> <td> 0.000</td> <td>   19.313</td> <td>   21.081</td>\n",
       "</tr>\n",
       "<tr>\n",
       "  <th>Location_SydneyAirport</th>    <td>   20.6319</td> <td>    0.452</td> <td>   45.693</td> <td> 0.000</td> <td>   19.747</td> <td>   21.517</td>\n",
       "</tr>\n",
       "<tr>\n",
       "  <th>Location_Townsville</th>       <td>   21.3416</td> <td>    0.448</td> <td>   47.690</td> <td> 0.000</td> <td>   20.464</td> <td>   22.219</td>\n",
       "</tr>\n",
       "<tr>\n",
       "  <th>Location_Tuggeranong</th>      <td>   22.1993</td> <td>    0.442</td> <td>   50.187</td> <td> 0.000</td> <td>   21.332</td> <td>   23.066</td>\n",
       "</tr>\n",
       "<tr>\n",
       "  <th>Location_Uluru</th>            <td>   22.0038</td> <td>    0.448</td> <td>   49.117</td> <td> 0.000</td> <td>   21.126</td> <td>   22.882</td>\n",
       "</tr>\n",
       "<tr>\n",
       "  <th>Location_WaggaWagga</th>       <td>   22.4507</td> <td>    0.444</td> <td>   50.535</td> <td> 0.000</td> <td>   21.580</td> <td>   23.321</td>\n",
       "</tr>\n",
       "<tr>\n",
       "  <th>Location_Walpole</th>          <td>   22.2266</td> <td>    0.447</td> <td>   49.722</td> <td> 0.000</td> <td>   21.350</td> <td>   23.103</td>\n",
       "</tr>\n",
       "<tr>\n",
       "  <th>Location_Watsonia</th>         <td>   21.9493</td> <td>    0.445</td> <td>   49.278</td> <td> 0.000</td> <td>   21.076</td> <td>   22.822</td>\n",
       "</tr>\n",
       "<tr>\n",
       "  <th>Location_Williamtown</th>      <td>   23.0293</td> <td>    0.449</td> <td>   51.325</td> <td> 0.000</td> <td>   22.150</td> <td>   23.909</td>\n",
       "</tr>\n",
       "<tr>\n",
       "  <th>Location_Witchcliffe</th>      <td>   23.0570</td> <td>    0.447</td> <td>   51.594</td> <td> 0.000</td> <td>   22.181</td> <td>   23.933</td>\n",
       "</tr>\n",
       "<tr>\n",
       "  <th>Location_Wollongong</th>       <td>   20.2225</td> <td>    0.451</td> <td>   44.799</td> <td> 0.000</td> <td>   19.338</td> <td>   21.107</td>\n",
       "</tr>\n",
       "<tr>\n",
       "  <th>Location_Woomera</th>          <td>   21.1488</td> <td>    0.448</td> <td>   47.171</td> <td> 0.000</td> <td>   20.270</td> <td>   22.028</td>\n",
       "</tr>\n",
       "<tr>\n",
       "  <th>WindGustDir_E</th>             <td>   60.7789</td> <td>    1.222</td> <td>   49.753</td> <td> 0.000</td> <td>   58.385</td> <td>   63.173</td>\n",
       "</tr>\n",
       "<tr>\n",
       "  <th>WindGustDir_ENE</th>           <td>   60.8833</td> <td>    1.220</td> <td>   49.887</td> <td> 0.000</td> <td>   58.491</td> <td>   63.275</td>\n",
       "</tr>\n",
       "<tr>\n",
       "  <th>WindGustDir_ESE</th>           <td>   60.6162</td> <td>    1.222</td> <td>   49.609</td> <td> 0.000</td> <td>   58.221</td> <td>   63.011</td>\n",
       "</tr>\n",
       "<tr>\n",
       "  <th>WindGustDir_N</th>             <td>   60.7184</td> <td>    1.217</td> <td>   49.882</td> <td> 0.000</td> <td>   58.333</td> <td>   63.104</td>\n",
       "</tr>\n",
       "<tr>\n",
       "  <th>WindGustDir_NE</th>            <td>   60.9069</td> <td>    1.220</td> <td>   49.943</td> <td> 0.000</td> <td>   58.517</td> <td>   63.297</td>\n",
       "</tr>\n",
       "<tr>\n",
       "  <th>WindGustDir_NNE</th>           <td>   60.8195</td> <td>    1.219</td> <td>   49.911</td> <td> 0.000</td> <td>   58.431</td> <td>   63.208</td>\n",
       "</tr>\n",
       "<tr>\n",
       "  <th>WindGustDir_NNW</th>           <td>   60.7729</td> <td>    1.216</td> <td>   49.980</td> <td> 0.000</td> <td>   58.390</td> <td>   63.156</td>\n",
       "</tr>\n",
       "<tr>\n",
       "  <th>WindGustDir_NW</th>            <td>   60.5993</td> <td>    1.215</td> <td>   49.891</td> <td> 0.000</td> <td>   58.219</td> <td>   62.980</td>\n",
       "</tr>\n",
       "<tr>\n",
       "  <th>WindGustDir_S</th>             <td>   60.5733</td> <td>    1.220</td> <td>   49.640</td> <td> 0.000</td> <td>   58.182</td> <td>   62.965</td>\n",
       "</tr>\n",
       "<tr>\n",
       "  <th>WindGustDir_SE</th>            <td>   60.6751</td> <td>    1.222</td> <td>   49.661</td> <td> 0.000</td> <td>   58.280</td> <td>   63.070</td>\n",
       "</tr>\n",
       "<tr>\n",
       "  <th>WindGustDir_SSE</th>           <td>   60.6360</td> <td>    1.221</td> <td>   49.649</td> <td> 0.000</td> <td>   58.242</td> <td>   63.030</td>\n",
       "</tr>\n",
       "<tr>\n",
       "  <th>WindGustDir_SSW</th>           <td>   60.4813</td> <td>    1.219</td> <td>   49.624</td> <td> 0.000</td> <td>   58.093</td> <td>   62.870</td>\n",
       "</tr>\n",
       "<tr>\n",
       "  <th>WindGustDir_SW</th>            <td>   60.2624</td> <td>    1.217</td> <td>   49.511</td> <td> 0.000</td> <td>   57.877</td> <td>   62.648</td>\n",
       "</tr>\n",
       "<tr>\n",
       "  <th>WindGustDir_W</th>             <td>   60.0437</td> <td>    1.214</td> <td>   49.442</td> <td> 0.000</td> <td>   57.663</td> <td>   62.424</td>\n",
       "</tr>\n",
       "<tr>\n",
       "  <th>WindGustDir_WNW</th>           <td>   60.1284</td> <td>    1.214</td> <td>   49.530</td> <td> 0.000</td> <td>   57.749</td> <td>   62.508</td>\n",
       "</tr>\n",
       "<tr>\n",
       "  <th>WindGustDir_WSW</th>           <td>   60.2321</td> <td>    1.215</td> <td>   49.554</td> <td> 0.000</td> <td>   57.850</td> <td>   62.614</td>\n",
       "</tr>\n",
       "</table>\n",
       "<table class=\"simpletable\">\n",
       "<tr>\n",
       "  <th>Omnibus:</th>       <td>2067.973</td> <th>  Durbin-Watson:     </th> <td>   1.998</td>\n",
       "</tr>\n",
       "<tr>\n",
       "  <th>Prob(Omnibus):</th>  <td> 0.000</td>  <th>  Jarque-Bera (JB):  </th> <td>3585.003</td>\n",
       "</tr>\n",
       "<tr>\n",
       "  <th>Skew:</th>           <td> 0.185</td>  <th>  Prob(JB):          </th> <td>    0.00</td>\n",
       "</tr>\n",
       "<tr>\n",
       "  <th>Kurtosis:</th>       <td> 3.870</td>  <th>  Cond. No.          </th> <td>2.25e+15</td>\n",
       "</tr>\n",
       "</table><br/><br/>Notes:<br/>[1] Standard Errors assume that the covariance matrix of the errors is correctly specified.<br/>[2] The smallest eigenvalue is 3.94e-20. This might indicate that there are<br/>strong multicollinearity problems or that the design matrix is singular."
      ],
      "text/plain": [
       "<class 'statsmodels.iolib.summary.Summary'>\n",
       "\"\"\"\n",
       "                            OLS Regression Results                            \n",
       "==============================================================================\n",
       "Dep. Variable:                MaxTemp   R-squared:                       0.865\n",
       "Model:                            OLS   Adj. R-squared:                  0.865\n",
       "Method:                 Least Squares   F-statistic:                     9173.\n",
       "Date:                Fri, 08 Apr 2022   Prob (F-statistic):               0.00\n",
       "Time:                        19:17:55   Log-Likelihood:            -2.2752e+05\n",
       "No. Observations:               96292   AIC:                         4.552e+05\n",
       "Df Residuals:                   96224   BIC:                         4.558e+05\n",
       "Df Model:                          67                                         \n",
       "Covariance Type:            nonrobust                                         \n",
       "=============================================================================================\n",
       "                                coef    std err          t      P>|t|      [0.025      0.975]\n",
       "---------------------------------------------------------------------------------------------\n",
       "MinTemp                       0.8218      0.002    416.169      0.000       0.818       0.826\n",
       "Rainfall                      0.0035      0.001      3.221      0.001       0.001       0.006\n",
       "WindGustSpeed                 0.0007      0.001      0.697      0.486      -0.001       0.003\n",
       "WindSpeed9am                 -0.0987      0.001    -73.822      0.000      -0.101      -0.096\n",
       "WindSpeed3pm                 -0.0100      0.001     -7.016      0.000      -0.013      -0.007\n",
       "Pressure9am                   0.4823      0.005     90.903      0.000       0.472       0.493\n",
       "Pressure3pm                  -0.5408      0.005   -102.893      0.000      -0.551      -0.531\n",
       "Humidity9am                  -0.0330      0.001    -45.976      0.000      -0.034      -0.032\n",
       "Humidity3pm                  -0.1397      0.001   -212.637      0.000      -0.141      -0.138\n",
       "Location_Adelaide            20.0753      0.449     44.757      0.000      19.196      20.954\n",
       "Location_Albury              22.6066      0.444     50.971      0.000      21.737      23.476\n",
       "Location_AliceSprings        21.5889      0.443     48.769      0.000      20.721      22.457\n",
       "Location_BadgerysCreek       23.0572      0.445     51.868      0.000      22.186      23.928\n",
       "Location_Ballarat            23.5745      0.444     53.146      0.000      22.705      24.444\n",
       "Location_Bendigo             22.7314      0.443     51.307      0.000      21.863      23.600\n",
       "Location_Brisbane            20.6425      0.447     46.202      0.000      19.767      21.518\n",
       "Location_Cairns              21.8573      0.446     49.017      0.000      20.983      22.731\n",
       "Location_Canberra            22.9067      0.444     51.619      0.000      22.037      23.776\n",
       "Location_Cobar               20.7354      0.446     46.468      0.000      19.861      21.610\n",
       "Location_CoffsHarbour        22.3941      0.449     49.821      0.000      21.513      23.275\n",
       "Location_Dartmoor            23.8192      0.444     53.628      0.000      22.949      24.690\n",
       "Location_Darwin              21.3046      0.447     47.701      0.000      20.429      22.180\n",
       "Location_GoldCoast           22.0915      0.451     49.000      0.000      21.208      22.975\n",
       "Location_Hobart              19.7274      0.442     44.634      0.000      18.861      20.594\n",
       "Location_Katherine           23.6497      0.453     52.245      0.000      22.762      24.537\n",
       "Location_Launceston          22.0025      0.442     49.779      0.000      21.136      22.869\n",
       "Location_Melbourne           20.5898      0.448     45.957      0.000      19.712      21.468\n",
       "Location_MelbourneAirport    22.0033      0.447     49.267      0.000      21.128      22.879\n",
       "Location_Mildura             22.3838      0.445     50.266      0.000      21.511      23.257\n",
       "Location_Moree               22.5077      0.446     50.417      0.000      21.633      23.383\n",
       "Location_MountGambier        23.2347      0.445     52.177      0.000      22.362      24.107\n",
       "Location_Nhil                23.4374      0.448     52.292      0.000      22.559      24.316\n",
       "Location_NorahHead           21.2351      0.451     47.118      0.000      20.352      22.118\n",
       "Location_NorfolkIsland       19.9829      0.451     44.354      0.000      19.100      20.866\n",
       "Location_Nuriootpa           22.1264      0.446     49.605      0.000      21.252      23.001\n",
       "Location_PearceRAAF          23.2822      0.447     52.100      0.000      22.406      24.158\n",
       "Location_Perth               22.0469      0.446     49.473      0.000      21.173      22.920\n",
       "Location_PerthAirport        22.5714      0.447     50.466      0.000      21.695      23.448\n",
       "Location_Portland            22.3080      0.446     50.001      0.000      21.434      23.182\n",
       "Location_Richmond            22.7640      0.445     51.204      0.000      21.893      23.635\n",
       "Location_Sale                23.4321      0.444     52.731      0.000      22.561      24.303\n",
       "Location_Sydney              20.1968      0.451     44.768      0.000      19.313      21.081\n",
       "Location_SydneyAirport       20.6319      0.452     45.693      0.000      19.747      21.517\n",
       "Location_Townsville          21.3416      0.448     47.690      0.000      20.464      22.219\n",
       "Location_Tuggeranong         22.1993      0.442     50.187      0.000      21.332      23.066\n",
       "Location_Uluru               22.0038      0.448     49.117      0.000      21.126      22.882\n",
       "Location_WaggaWagga          22.4507      0.444     50.535      0.000      21.580      23.321\n",
       "Location_Walpole             22.2266      0.447     49.722      0.000      21.350      23.103\n",
       "Location_Watsonia            21.9493      0.445     49.278      0.000      21.076      22.822\n",
       "Location_Williamtown         23.0293      0.449     51.325      0.000      22.150      23.909\n",
       "Location_Witchcliffe         23.0570      0.447     51.594      0.000      22.181      23.933\n",
       "Location_Wollongong          20.2225      0.451     44.799      0.000      19.338      21.107\n",
       "Location_Woomera             21.1488      0.448     47.171      0.000      20.270      22.028\n",
       "WindGustDir_E                60.7789      1.222     49.753      0.000      58.385      63.173\n",
       "WindGustDir_ENE              60.8833      1.220     49.887      0.000      58.491      63.275\n",
       "WindGustDir_ESE              60.6162      1.222     49.609      0.000      58.221      63.011\n",
       "WindGustDir_N                60.7184      1.217     49.882      0.000      58.333      63.104\n",
       "WindGustDir_NE               60.9069      1.220     49.943      0.000      58.517      63.297\n",
       "WindGustDir_NNE              60.8195      1.219     49.911      0.000      58.431      63.208\n",
       "WindGustDir_NNW              60.7729      1.216     49.980      0.000      58.390      63.156\n",
       "WindGustDir_NW               60.5993      1.215     49.891      0.000      58.219      62.980\n",
       "WindGustDir_S                60.5733      1.220     49.640      0.000      58.182      62.965\n",
       "WindGustDir_SE               60.6751      1.222     49.661      0.000      58.280      63.070\n",
       "WindGustDir_SSE              60.6360      1.221     49.649      0.000      58.242      63.030\n",
       "WindGustDir_SSW              60.4813      1.219     49.624      0.000      58.093      62.870\n",
       "WindGustDir_SW               60.2624      1.217     49.511      0.000      57.877      62.648\n",
       "WindGustDir_W                60.0437      1.214     49.442      0.000      57.663      62.424\n",
       "WindGustDir_WNW              60.1284      1.214     49.530      0.000      57.749      62.508\n",
       "WindGustDir_WSW              60.2321      1.215     49.554      0.000      57.850      62.614\n",
       "==============================================================================\n",
       "Omnibus:                     2067.973   Durbin-Watson:                   1.998\n",
       "Prob(Omnibus):                  0.000   Jarque-Bera (JB):             3585.003\n",
       "Skew:                           0.185   Prob(JB):                         0.00\n",
       "Kurtosis:                       3.870   Cond. No.                     2.25e+15\n",
       "==============================================================================\n",
       "\n",
       "Notes:\n",
       "[1] Standard Errors assume that the covariance matrix of the errors is correctly specified.\n",
       "[2] The smallest eigenvalue is 3.94e-20. This might indicate that there are\n",
       "strong multicollinearity problems or that the design matrix is singular.\n",
       "\"\"\""
      ]
     },
     "execution_count": 15,
     "metadata": {},
     "output_type": "execute_result"
    }
   ],
   "source": [
    "lm = sm.OLS(y_train, X_train)\n",
    "model = lm.fit()\n",
    "model.summary()"
   ]
  },
  {
   "cell_type": "code",
   "execution_count": 16,
   "metadata": {},
   "outputs": [
    {
     "data": {
      "text/plain": [
       "2.5853849438714014"
      ]
     },
     "execution_count": 16,
     "metadata": {},
     "output_type": "execute_result"
    }
   ],
   "source": [
    "rmse = np.sqrt(mean_squared_error(y_test, model.predict(X_test)))\n",
    "rmse"
   ]
  },
  {
   "cell_type": "code",
   "execution_count": 17,
   "metadata": {},
   "outputs": [
    {
     "data": {
      "text/plain": [
       "0.8646323025238644"
      ]
     },
     "execution_count": 17,
     "metadata": {},
     "output_type": "execute_result"
    }
   ],
   "source": [
    "reg = LinearRegression()\n",
    "model = reg.fit(X_train, y_train)\n",
    "model.score(X_train, y_train)"
   ]
  },
  {
   "cell_type": "code",
   "execution_count": 18,
   "metadata": {},
   "outputs": [
    {
     "data": {
      "text/plain": [
       "2.569890101460329"
      ]
     },
     "execution_count": 18,
     "metadata": {},
     "output_type": "execute_result"
    }
   ],
   "source": [
    "np.sqrt(mean_squared_error(y_train, model.predict(X_train)))"
   ]
  },
  {
   "cell_type": "code",
   "execution_count": 19,
   "metadata": {},
   "outputs": [
    {
     "data": {
      "text/plain": [
       "0.8644009759583511"
      ]
     },
     "execution_count": 19,
     "metadata": {},
     "output_type": "execute_result"
    }
   ],
   "source": [
    "cross_val_score(model, X_train, y_train, cv = 10, scoring = 'r2').mean()"
   ]
  },
  {
   "cell_type": "code",
   "execution_count": 20,
   "metadata": {},
   "outputs": [
    {
     "data": {
      "text/plain": [
       "2.585384503248433"
      ]
     },
     "execution_count": 20,
     "metadata": {},
     "output_type": "execute_result"
    }
   ],
   "source": [
    "np.sqrt(mean_squared_error(y_test, model.predict(X_test)))"
   ]
  },
  {
   "cell_type": "markdown",
   "metadata": {},
   "source": [
    "## Lasso"
   ]
  },
  {
   "cell_type": "code",
   "execution_count": 21,
   "metadata": {},
   "outputs": [
    {
     "data": {
      "text/plain": [
       "(0.8238913878398553, 0.8212862027317193)"
      ]
     },
     "execution_count": 21,
     "metadata": {},
     "output_type": "execute_result"
    }
   ],
   "source": [
    "X_train, X_test, y_train, y_test = train_test_split(X, y, test_size = 0.2, random_state = 1)\n",
    "lasso_model = Lasso().fit(X_train, y_train)\n",
    "lasso_model.score(X_train, y_train) , lasso_model.score(X_test, y_test)"
   ]
  },
  {
   "cell_type": "code",
   "execution_count": 22,
   "metadata": {},
   "outputs": [
    {
     "data": {
      "text/plain": [
       "(2.9312126615569993, 2.949373649008487)"
      ]
     },
     "execution_count": 22,
     "metadata": {},
     "output_type": "execute_result"
    }
   ],
   "source": [
    "np.sqrt(mean_squared_error(y_train, lasso_model.predict(X_train))) , np.sqrt(mean_squared_error(y_test, lasso_model.predict(X_test)))"
   ]
  },
  {
   "cell_type": "code",
   "execution_count": 23,
   "metadata": {},
   "outputs": [
    {
     "data": {
      "text/plain": [
       "LassoCV(cv=10, max_iter=10000, normalize=True)"
      ]
     },
     "execution_count": 23,
     "metadata": {},
     "output_type": "execute_result"
    }
   ],
   "source": [
    "lasso_model_cv = LassoCV(alphas = None, cv = 10, max_iter = 10000, normalize = True)\n",
    "lasso_model_cv.fit(X_train, y_train)"
   ]
  },
  {
   "cell_type": "code",
   "execution_count": 24,
   "metadata": {},
   "outputs": [
    {
     "data": {
      "text/plain": [
       "1.645645095565498e-05"
      ]
     },
     "execution_count": 24,
     "metadata": {},
     "output_type": "execute_result"
    }
   ],
   "source": [
    "lasso_model_cv.alpha_"
   ]
  },
  {
   "cell_type": "code",
   "execution_count": 25,
   "metadata": {},
   "outputs": [
    {
     "name": "stderr",
     "output_type": "stream",
     "text": [
      "/home/mehmet/anaconda3/lib/python3.8/site-packages/sklearn/linear_model/_coordinate_descent.py:529: ConvergenceWarning: Objective did not converge. You might want to increase the number of iterations. Duality gap: 4624.582109742216, tolerance: 469.7905412738233\n",
      "  model = cd_fast.enet_coordinate_descent(\n"
     ]
    },
    {
     "data": {
      "text/plain": [
       "Lasso(alpha=1.645645095565498e-05)"
      ]
     },
     "execution_count": 25,
     "metadata": {},
     "output_type": "execute_result"
    }
   ],
   "source": [
    "lasso_optimum = Lasso(alpha= lasso_model_cv.alpha_) \n",
    "lasso_optimum.fit(X_train, y_train)"
   ]
  },
  {
   "cell_type": "code",
   "execution_count": 26,
   "metadata": {},
   "outputs": [
    {
     "data": {
      "text/plain": [
       "(0.8646322862716678, 0.8626735159843528)"
      ]
     },
     "execution_count": 26,
     "metadata": {},
     "output_type": "execute_result"
    }
   ],
   "source": [
    "lasso_optimum.score(X_train, y_train) , lasso_optimum.score(X_test, y_test)"
   ]
  },
  {
   "cell_type": "code",
   "execution_count": 27,
   "metadata": {},
   "outputs": [
    {
     "data": {
      "text/plain": [
       "(2.5706338735033425, 2.586586833972037)"
      ]
     },
     "execution_count": 27,
     "metadata": {},
     "output_type": "execute_result"
    }
   ],
   "source": [
    "np.sqrt(mean_squared_error(y_train, lasso_model_cv.predict(X_train))) , np.sqrt(mean_squared_error(y_test, lasso_model_cv.predict(X_test)))"
   ]
  },
  {
   "cell_type": "markdown",
   "metadata": {},
   "source": [
    "## Ridge"
   ]
  },
  {
   "cell_type": "code",
   "execution_count": 28,
   "metadata": {},
   "outputs": [
    {
     "data": {
      "text/plain": [
       "(0.8643181647382883, 0.8639340191887126)"
      ]
     },
     "execution_count": 28,
     "metadata": {},
     "output_type": "execute_result"
    }
   ],
   "source": [
    "X_train, X_test, y_train, y_test = train_test_split(X, y, test_size = 0.2, random_state =42)\n",
    "ridge_model = Ridge().fit(X_train, y_train)\n",
    "ridge_model.score(X_train, y_train) , ridge_model.score(X_test, y_test)"
   ]
  },
  {
   "cell_type": "code",
   "execution_count": 29,
   "metadata": {},
   "outputs": [
    {
     "data": {
      "text/plain": [
       "(2.572790224875913, 2.573983624530507)"
      ]
     },
     "execution_count": 29,
     "metadata": {},
     "output_type": "execute_result"
    }
   ],
   "source": [
    "np.sqrt(mean_squared_error(y_train, ridge_model.predict(X_train))) ,np.sqrt(mean_squared_error(y_test, ridge_model.predict(X_test)))"
   ]
  },
  {
   "cell_type": "code",
   "execution_count": 30,
   "metadata": {},
   "outputs": [
    {
     "data": {
      "text/plain": [
       "(0.8491036006798047, 0.849902382055579)"
      ]
     },
     "execution_count": 30,
     "metadata": {},
     "output_type": "execute_result"
    }
   ],
   "source": [
    "ridge_model = Ridge(alpha=10000).fit(X_train, y_train)\n",
    "ridge_model.score(X_train, y_train) , ridge_model.score(X_test, y_test)"
   ]
  },
  {
   "cell_type": "code",
   "execution_count": 31,
   "metadata": {},
   "outputs": [
    {
     "data": {
      "text/plain": [
       "(2.7132071991660704, 2.7034472585903297)"
      ]
     },
     "execution_count": 31,
     "metadata": {},
     "output_type": "execute_result"
    }
   ],
   "source": [
    "np.sqrt(mean_squared_error(y_train, ridge_model.predict(X_train))) , np.sqrt(mean_squared_error(y_test, ridge_model.predict(X_test)))"
   ]
  },
  {
   "cell_type": "code",
   "execution_count": 32,
   "metadata": {},
   "outputs": [
    {
     "data": {
      "text/plain": [
       "RidgeCV(alphas=array([1.00000000e+01, 9.89899091e+00, 9.79798182e+00, 9.69697273e+00,\n",
       "       9.59596364e+00, 9.49495455e+00, 9.39394545e+00, 9.29293636e+00,\n",
       "       9.19192727e+00, 9.09091818e+00, 8.98990909e+00, 8.88890000e+00,\n",
       "       8.78789091e+00, 8.68688182e+00, 8.58587273e+00, 8.48486364e+00,\n",
       "       8.38385455e+00, 8.28284545e+00, 8.18183636e+00, 8.08082727e+00,\n",
       "       7.97981818e+00, 7.87880909e+0...\n",
       "       1.91927273e+00, 1.81826364e+00, 1.71725455e+00, 1.61624545e+00,\n",
       "       1.51523636e+00, 1.41422727e+00, 1.31321818e+00, 1.21220909e+00,\n",
       "       1.11120000e+00, 1.01019091e+00, 9.09181818e-01, 8.08172727e-01,\n",
       "       7.07163636e-01, 6.06154545e-01, 5.05145455e-01, 4.04136364e-01,\n",
       "       3.03127273e-01, 2.02118182e-01, 1.01109091e-01, 1.00000000e-04]),\n",
       "        normalize=True, scoring='neg_mean_squared_error')"
      ]
     },
     "execution_count": 32,
     "metadata": {},
     "output_type": "execute_result"
    }
   ],
   "source": [
    "lambdas = np.linspace(10,0.0001,100)\n",
    "\n",
    "alphaCV = RidgeCV(alphas = lambdas, \n",
    "                  scoring = 'neg_mean_squared_error',\n",
    "                  normalize = True)\n",
    "\n",
    "alphaCV.fit(X_train, y_train)"
   ]
  },
  {
   "cell_type": "code",
   "execution_count": 33,
   "metadata": {},
   "outputs": [
    {
     "data": {
      "text/plain": [
       "(0.8639291430747814, 2.5740297452613894)"
      ]
     },
     "execution_count": 33,
     "metadata": {},
     "output_type": "execute_result"
    }
   ],
   "source": [
    "ridge_tuned = Ridge(alpha= alphaCV.alpha_,\n",
    "                   normalize = True).fit(X_train,y_train)\n",
    "\n",
    "ridge_tuned.score(X_train,y_train)\n",
    "\n",
    "ridge_tuned.score(X_test,y_test), np.sqrt(mean_squared_error(y_test, ridge_tuned.predict(X_test)))"
   ]
  },
  {
   "cell_type": "markdown",
   "metadata": {},
   "source": [
    "## Polynomial regressions"
   ]
  },
  {
   "cell_type": "code",
   "execution_count": null,
   "metadata": {},
   "outputs": [],
   "source": []
  },
  {
   "cell_type": "code",
   "execution_count": null,
   "metadata": {},
   "outputs": [],
   "source": []
  },
  {
   "cell_type": "markdown",
   "metadata": {},
   "source": [
    "# 2- Logistic regression"
   ]
  },
  {
   "cell_type": "code",
   "execution_count": 34,
   "metadata": {},
   "outputs": [],
   "source": [
    "df = data.copy()\n",
    "df = df[['Location', 'MinTemp', 'MaxTemp', 'Rainfall', 'WindGustDir', 'WindGustSpeed', 'WindSpeed9am', 'WindSpeed3pm', 'Pressure9am', 'Pressure3pm', 'Humidity9am', 'Humidity3pm', 'RainToday', 'RainTomorrow']]\n",
    "df = df.dropna()\n",
    "df = df.reset_index(drop = True)\n",
    "location = df['Location'].str.get_dummies().add_prefix('Location_')\n",
    "windgustdir = df['WindGustDir'].str.get_dummies().add_prefix('WindGustDir_')\n",
    "raintoday = pd.get_dummies(data = df['RainToday'], drop_first = True).add_prefix('RainToday_')\n",
    "raintomorrow = pd.get_dummies(data = df['RainTomorrow'], drop_first = True).add_prefix('RainTomorrow_')\n",
    "df.drop(['Location','WindGustDir', 'RainTomorrow', 'RainToday'],inplace = True, axis = 1)\n",
    "df = pd.concat([df, location, windgustdir, raintoday, raintomorrow], axis = 1)"
   ]
  },
  {
   "cell_type": "code",
   "execution_count": 35,
   "metadata": {},
   "outputs": [
    {
     "data": {
      "text/html": [
       "<div>\n",
       "<style scoped>\n",
       "    .dataframe tbody tr th:only-of-type {\n",
       "        vertical-align: middle;\n",
       "    }\n",
       "\n",
       "    .dataframe tbody tr th {\n",
       "        vertical-align: top;\n",
       "    }\n",
       "\n",
       "    .dataframe thead th {\n",
       "        text-align: right;\n",
       "    }\n",
       "</style>\n",
       "<table border=\"1\" class=\"dataframe\">\n",
       "  <thead>\n",
       "    <tr style=\"text-align: right;\">\n",
       "      <th></th>\n",
       "      <th>MinTemp</th>\n",
       "      <th>MaxTemp</th>\n",
       "      <th>Rainfall</th>\n",
       "      <th>WindGustSpeed</th>\n",
       "      <th>WindSpeed9am</th>\n",
       "      <th>WindSpeed3pm</th>\n",
       "      <th>Pressure9am</th>\n",
       "      <th>Pressure3pm</th>\n",
       "      <th>Humidity9am</th>\n",
       "      <th>Humidity3pm</th>\n",
       "      <th>...</th>\n",
       "      <th>WindGustDir_S</th>\n",
       "      <th>WindGustDir_SE</th>\n",
       "      <th>WindGustDir_SSE</th>\n",
       "      <th>WindGustDir_SSW</th>\n",
       "      <th>WindGustDir_SW</th>\n",
       "      <th>WindGustDir_W</th>\n",
       "      <th>WindGustDir_WNW</th>\n",
       "      <th>WindGustDir_WSW</th>\n",
       "      <th>RainToday_Yes</th>\n",
       "      <th>RainTomorrow_Yes</th>\n",
       "    </tr>\n",
       "  </thead>\n",
       "  <tbody>\n",
       "    <tr>\n",
       "      <th>0</th>\n",
       "      <td>13.4</td>\n",
       "      <td>22.9</td>\n",
       "      <td>0.6</td>\n",
       "      <td>44.0</td>\n",
       "      <td>20.0</td>\n",
       "      <td>24.0</td>\n",
       "      <td>1007.7</td>\n",
       "      <td>1007.1</td>\n",
       "      <td>71.0</td>\n",
       "      <td>22.0</td>\n",
       "      <td>...</td>\n",
       "      <td>0</td>\n",
       "      <td>0</td>\n",
       "      <td>0</td>\n",
       "      <td>0</td>\n",
       "      <td>0</td>\n",
       "      <td>1</td>\n",
       "      <td>0</td>\n",
       "      <td>0</td>\n",
       "      <td>0</td>\n",
       "      <td>0</td>\n",
       "    </tr>\n",
       "    <tr>\n",
       "      <th>1</th>\n",
       "      <td>7.4</td>\n",
       "      <td>25.1</td>\n",
       "      <td>0.0</td>\n",
       "      <td>44.0</td>\n",
       "      <td>4.0</td>\n",
       "      <td>22.0</td>\n",
       "      <td>1010.6</td>\n",
       "      <td>1007.8</td>\n",
       "      <td>44.0</td>\n",
       "      <td>25.0</td>\n",
       "      <td>...</td>\n",
       "      <td>0</td>\n",
       "      <td>0</td>\n",
       "      <td>0</td>\n",
       "      <td>0</td>\n",
       "      <td>0</td>\n",
       "      <td>0</td>\n",
       "      <td>1</td>\n",
       "      <td>0</td>\n",
       "      <td>0</td>\n",
       "      <td>0</td>\n",
       "    </tr>\n",
       "    <tr>\n",
       "      <th>2</th>\n",
       "      <td>12.9</td>\n",
       "      <td>25.7</td>\n",
       "      <td>0.0</td>\n",
       "      <td>46.0</td>\n",
       "      <td>19.0</td>\n",
       "      <td>26.0</td>\n",
       "      <td>1007.6</td>\n",
       "      <td>1008.7</td>\n",
       "      <td>38.0</td>\n",
       "      <td>30.0</td>\n",
       "      <td>...</td>\n",
       "      <td>0</td>\n",
       "      <td>0</td>\n",
       "      <td>0</td>\n",
       "      <td>0</td>\n",
       "      <td>0</td>\n",
       "      <td>0</td>\n",
       "      <td>0</td>\n",
       "      <td>1</td>\n",
       "      <td>0</td>\n",
       "      <td>0</td>\n",
       "    </tr>\n",
       "    <tr>\n",
       "      <th>3</th>\n",
       "      <td>9.2</td>\n",
       "      <td>28.0</td>\n",
       "      <td>0.0</td>\n",
       "      <td>24.0</td>\n",
       "      <td>11.0</td>\n",
       "      <td>9.0</td>\n",
       "      <td>1017.6</td>\n",
       "      <td>1012.8</td>\n",
       "      <td>45.0</td>\n",
       "      <td>16.0</td>\n",
       "      <td>...</td>\n",
       "      <td>0</td>\n",
       "      <td>0</td>\n",
       "      <td>0</td>\n",
       "      <td>0</td>\n",
       "      <td>0</td>\n",
       "      <td>0</td>\n",
       "      <td>0</td>\n",
       "      <td>0</td>\n",
       "      <td>0</td>\n",
       "      <td>0</td>\n",
       "    </tr>\n",
       "    <tr>\n",
       "      <th>4</th>\n",
       "      <td>17.5</td>\n",
       "      <td>32.3</td>\n",
       "      <td>1.0</td>\n",
       "      <td>41.0</td>\n",
       "      <td>7.0</td>\n",
       "      <td>20.0</td>\n",
       "      <td>1010.8</td>\n",
       "      <td>1006.0</td>\n",
       "      <td>82.0</td>\n",
       "      <td>33.0</td>\n",
       "      <td>...</td>\n",
       "      <td>0</td>\n",
       "      <td>0</td>\n",
       "      <td>0</td>\n",
       "      <td>0</td>\n",
       "      <td>0</td>\n",
       "      <td>1</td>\n",
       "      <td>0</td>\n",
       "      <td>0</td>\n",
       "      <td>0</td>\n",
       "      <td>0</td>\n",
       "    </tr>\n",
       "  </tbody>\n",
       "</table>\n",
       "<p>5 rows × 72 columns</p>\n",
       "</div>"
      ],
      "text/plain": [
       "   MinTemp  MaxTemp  Rainfall  WindGustSpeed  WindSpeed9am  WindSpeed3pm  \\\n",
       "0     13.4     22.9       0.6           44.0          20.0          24.0   \n",
       "1      7.4     25.1       0.0           44.0           4.0          22.0   \n",
       "2     12.9     25.7       0.0           46.0          19.0          26.0   \n",
       "3      9.2     28.0       0.0           24.0          11.0           9.0   \n",
       "4     17.5     32.3       1.0           41.0           7.0          20.0   \n",
       "\n",
       "   Pressure9am  Pressure3pm  Humidity9am  Humidity3pm  ...  WindGustDir_S  \\\n",
       "0       1007.7       1007.1         71.0         22.0  ...              0   \n",
       "1       1010.6       1007.8         44.0         25.0  ...              0   \n",
       "2       1007.6       1008.7         38.0         30.0  ...              0   \n",
       "3       1017.6       1012.8         45.0         16.0  ...              0   \n",
       "4       1010.8       1006.0         82.0         33.0  ...              0   \n",
       "\n",
       "   WindGustDir_SE  WindGustDir_SSE  WindGustDir_SSW  WindGustDir_SW  \\\n",
       "0               0                0                0               0   \n",
       "1               0                0                0               0   \n",
       "2               0                0                0               0   \n",
       "3               0                0                0               0   \n",
       "4               0                0                0               0   \n",
       "\n",
       "   WindGustDir_W  WindGustDir_WNW  WindGustDir_WSW  RainToday_Yes  \\\n",
       "0              1                0                0              0   \n",
       "1              0                1                0              0   \n",
       "2              0                0                1              0   \n",
       "3              0                0                0              0   \n",
       "4              1                0                0              0   \n",
       "\n",
       "   RainTomorrow_Yes  \n",
       "0                 0  \n",
       "1                 0  \n",
       "2                 0  \n",
       "3                 0  \n",
       "4                 0  \n",
       "\n",
       "[5 rows x 72 columns]"
      ]
     },
     "execution_count": 35,
     "metadata": {},
     "output_type": "execute_result"
    }
   ],
   "source": [
    "df.head()"
   ]
  },
  {
   "cell_type": "code",
   "execution_count": 36,
   "metadata": {},
   "outputs": [
    {
     "name": "stderr",
     "output_type": "stream",
     "text": [
      "/home/mehmet/anaconda3/lib/python3.8/site-packages/sklearn/linear_model/_logistic.py:762: ConvergenceWarning: lbfgs failed to converge (status=1):\n",
      "STOP: TOTAL NO. of ITERATIONS REACHED LIMIT.\n",
      "\n",
      "Increase the number of iterations (max_iter) or scale the data as shown in:\n",
      "    https://scikit-learn.org/stable/modules/preprocessing.html\n",
      "Please also refer to the documentation for alternative solver options:\n",
      "    https://scikit-learn.org/stable/modules/linear_model.html#logistic-regression\n",
      "  n_iter_i = _check_optimize_result(\n"
     ]
    },
    {
     "data": {
      "text/plain": [
       "0.8500585382170932"
      ]
     },
     "execution_count": 36,
     "metadata": {},
     "output_type": "execute_result"
    }
   ],
   "source": [
    "y = df['RainTomorrow_Yes']\n",
    "X = df.drop('RainTomorrow_Yes', axis = 1)\n",
    "X_train, X_test, y_train, y_test = train_test_split(X, y, test_size = 0.2, random_state = 1)\n",
    "log_reg = LogisticRegression()\n",
    "log_reg.fit(X_train, y_train)\n",
    "y_pred = log_reg.predict(X_test)\n",
    "accuracy_score(y_pred, y_test)"
   ]
  },
  {
   "cell_type": "markdown",
   "metadata": {},
   "source": [
    "## Naive Bayes"
   ]
  },
  {
   "cell_type": "code",
   "execution_count": 37,
   "metadata": {},
   "outputs": [
    {
     "name": "stdout",
     "output_type": "stream",
     "text": [
      "Accuracy of GaussianNB classifier on training set: 0.64\n",
      "Accuracy of GaussianNB classifier on test set: 0.63\n"
     ]
    }
   ],
   "source": [
    "clf_nb = GaussianNB().fit(X_train, y_train)\n",
    "\n",
    "print('Accuracy of GaussianNB classifier on training set: {:.2f}'.format(clf_nb.score(X_train, y_train)))\n",
    "\n",
    "print('Accuracy of GaussianNB classifier on test set: {:.2f}'.format(clf_nb.score(X_test, y_test)))\n"
   ]
  },
  {
   "cell_type": "markdown",
   "metadata": {},
   "source": [
    "## K-Nearest Neighbour (KNN)"
   ]
  },
  {
   "cell_type": "code",
   "execution_count": 38,
   "metadata": {},
   "outputs": [
    {
     "data": {
      "text/plain": [
       "0.34968028309397103"
      ]
     },
     "execution_count": 38,
     "metadata": {},
     "output_type": "execute_result"
    }
   ],
   "source": [
    "knn_model=KNeighborsRegressor().fit(X_train,y_train)\n",
    "y_pred=knn_model.predict(X_test)\n",
    "np.sqrt(mean_squared_error(y_test,y_pred))"
   ]
  },
  {
   "cell_type": "code",
   "execution_count": 39,
   "metadata": {},
   "outputs": [
    {
     "data": {
      "text/plain": [
       "{'n_neighbors': 8}"
      ]
     },
     "execution_count": 39,
     "metadata": {},
     "output_type": "execute_result"
    }
   ],
   "source": [
    "knn_params={\"n_neighbors\":[2,3,5,8]}\n",
    "knn_model=KNeighborsRegressor()\n",
    "knn_cv_model=GridSearchCV(knn_model,knn_params,cv=10).fit(X,y)\n",
    "knn_cv_model.best_params_"
   ]
  },
  {
   "cell_type": "code",
   "execution_count": 40,
   "metadata": {},
   "outputs": [
    {
     "data": {
      "text/plain": [
       "0.33893751301982233"
      ]
     },
     "execution_count": 40,
     "metadata": {},
     "output_type": "execute_result"
    }
   ],
   "source": [
    "knn_tuned=KNeighborsRegressor(**knn_cv_model.best_params_).fit(X_train,y_train)\n",
    "y_pred_tuned=knn_tuned.predict(X_test)\n",
    "y_test_error_tuned=np.sqrt(mean_squared_error(y_test,y_pred_tuned))\n",
    "y_test_error_tuned"
   ]
  },
  {
   "cell_type": "markdown",
   "metadata": {},
   "source": [
    "## Support Vector Regression"
   ]
  },
  {
   "cell_type": "code",
   "execution_count": 41,
   "metadata": {},
   "outputs": [
    {
     "name": "stderr",
     "output_type": "stream",
     "text": [
      "/home/mehmet/anaconda3/lib/python3.8/site-packages/sklearn/utils/validation.py:67: FutureWarning: Pass kernel=linear as keyword args. From version 0.25 passing these as positional arguments will result in an error\n",
      "  warnings.warn(\"Pass {} as keyword args. From version 0.25 \"\n"
     ]
    }
   ],
   "source": [
    "svr_model=SVR(\"linear\").fit(X_train,y_train)\n",
    "y_pred=svr_model.predict(X_test)\n",
    "np.sqrt(mean_squared_error(y_test,y_pred))"
   ]
  },
  {
   "cell_type": "code",
   "execution_count": null,
   "metadata": {},
   "outputs": [],
   "source": [
    "svr_model=SVR(\"linear\")\n",
    "svr_params={\"C\":np.linspace(0,1,5)}\n",
    "svr_cv_model=GridSearchCV(svr_model,svr_params,cv=10,n_jobs=-1,verbose=2).fit(X_train,y_train)\n",
    "svr_tuned=SVR(**svr_cv_model.best_params_).fit(X_train,y_train)\n",
    "y_pred=svr_tuned.predict(X_test)\n",
    "np.sqrt(mean_squared_error(y_test,y_pred))"
   ]
  }
 ],
 "metadata": {
  "interpreter": {
   "hash": "7c6162a375b4ae544ea28e4b8e05b576c11f8739c9ae0d2548f97354a7da6696"
  },
  "kernelspec": {
   "display_name": "Python 3.8.5 64-bit ('base': conda)",
   "language": "python",
   "name": "python3"
  },
  "language_info": {
   "codemirror_mode": {
    "name": "ipython",
    "version": 3
   },
   "file_extension": ".py",
   "mimetype": "text/x-python",
   "name": "python",
   "nbconvert_exporter": "python",
   "pygments_lexer": "ipython3",
   "version": "3.8.5"
  },
  "orig_nbformat": 4
 },
 "nbformat": 4,
 "nbformat_minor": 2
}
